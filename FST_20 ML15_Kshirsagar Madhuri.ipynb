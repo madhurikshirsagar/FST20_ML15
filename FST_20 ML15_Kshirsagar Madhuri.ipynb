{
 "cells": [
  {
   "cell_type": "markdown",
   "id": "e12eab74",
   "metadata": {},
   "source": [
    "# Q1    Python program to display the sum of n numbers using the list"
   ]
  },
  {
   "cell_type": "code",
   "execution_count": 1,
   "id": "f92ce13c",
   "metadata": {},
   "outputs": [
    {
     "name": "stdout",
     "output_type": "stream",
     "text": [
      "Enter a list of numbers separated by spaces: 1 2 3 4 5\n",
      "The sum of the numbers is: 15\n"
     ]
    }
   ],
   "source": [
    "num_list = input(\"Enter a list of numbers separated by spaces: \").split()\n",
    "# split() method splits the input string into a list of strings, separated by whitespace\n",
    "\n",
    "# Convert each string in the list to an integer using map()\n",
    "num_list = list(map(int, num_list))\n",
    "\n",
    "# Calculate the sum of the numbers using sum()\n",
    "sum_of_numbers = sum(num_list)\n",
    "\n",
    "print(\"The sum of the numbers is:\", sum_of_numbers)\n"
   ]
  },
  {
   "cell_type": "markdown",
   "id": "c711a76c",
   "metadata": {},
   "source": [
    "# Q2 Use a dictionary comprehension to count the length of each word in a sentence"
   ]
  },
  {
   "cell_type": "code",
   "execution_count": 4,
   "id": "52709640",
   "metadata": {},
   "outputs": [
    {
     "name": "stdout",
     "output_type": "stream",
     "text": [
      "{'This': 4, 'is': 2, 'a': 1, 'table': 5, 'sentence': 8}\n"
     ]
    }
   ],
   "source": [
    "sentence = \"This is a table  sentence\"\n",
    "word_lengths = {word: len(word) for word in sentence.split()}\n",
    "print(word_lengths)\n"
   ]
  },
  {
   "cell_type": "markdown",
   "id": "b49d0c36",
   "metadata": {},
   "source": [
    "# Q4. Tests whether a data sample has a Gaussian distribution.\n",
    "a)Generate the data, form H0 and H1 and write python code to test the Normality\n"
   ]
  },
  {
   "cell_type": "code",
   "execution_count": 25,
   "id": "2de9cb3d",
   "metadata": {},
   "outputs": [
    {
     "name": "stdout",
     "output_type": "stream",
     "text": [
      "Statistics=0.875, p=0.286\n",
      "Sample looks Gaussian (fail to reject H0)\n"
     ]
    }
   ],
   "source": [
    "from scipy.stats import shapiro\n",
    "\n",
    "# generate some data\n",
    "data = [0.34, 0.28, 0.9, 0.43, 0.53]\n",
    "\n",
    "# form the null hypothesis and alternative hypothesis\n",
    "# H0: the data is normally distributed\n",
    "# H1: the data is not normally distributed\n",
    "alpha = 0.05\n",
    "\n",
    "# perform the Shapiro-Wilk test\n",
    "stat, p = shapiro(data)\n",
    "\n",
    "# print the results\n",
    "print('Statistics=%.3f, p=%.3f' % (stat, p))\n",
    "if p > alpha:\n",
    "    print('Sample looks Gaussian (fail to reject H0)')\n",
    "else:\n",
    "    print('Sample does not look Gaussian (reject H0)')"
   ]
  },
  {
   "cell_type": "markdown",
   "id": "39977897",
   "metadata": {},
   "source": [
    "# Q3 Create an application using python which can perform the operations mentioned in the below             image"
   ]
  },
  {
   "cell_type": "code",
   "execution_count": 26,
   "id": "9115ac96",
   "metadata": {},
   "outputs": [
    {
     "name": "stdout",
     "output_type": "stream",
     "text": [
      "Welcome to state bank of india\n",
      "enter four digit pin: 3456\n",
      "1-withdraw\n",
      "2-balance enquiry\n",
      "3- fast cash\n",
      "please choose transaction: 2\n"
     ]
    }
   ],
   "source": [
    "print(\"Welcome to state bank of india\")\n",
    "input(\"enter four digit pin: \")\n",
    "print(\"1-withdraw\")\n",
    "print(\"2-balance enquiry\")\n",
    "print(\"3- fast cash\")\n",
    "transaction=int(input(\"please choose transaction: \"))\n",
    "if transaction==1:\n",
    "    withdraw=input(\"withdraw amount: \")\n",
    "    print(\"withdraw amount: \",withdraw)"
   ]
  },
  {
   "cell_type": "markdown",
   "id": "8065206d",
   "metadata": {},
   "source": [
    "# Q5.\tCreate Data Frame from a list, array and dictionary.                                                                     "
   ]
  },
  {
   "cell_type": "code",
   "execution_count": null,
   "id": "0b72a8f6",
   "metadata": {},
   "outputs": [],
   "source": [
    "# function to add two numbers\n",
    "def add(x, y):\n",
    "    return x + y\n",
    "\n",
    "# function to subtract two numbers\n",
    "def subtract(x, y):\n",
    "    return x - y\n",
    "\n",
    "# function to multiply two numbers\n",
    "def multiply(x, y):\n",
    "    return x * y\n",
    "\n",
    "# function to divide two numbers\n",
    "def divide(x, y):\n",
    "    return x / y\n",
    "\n",
    "print(\"Select operation.\")\n",
    "print(\"1. Add\")\n",
    "print(\"2. Subtract\")\n",
    "print(\"3. Multiply\")\n",
    "print(\"4. Divide\")\n",
    "\n",
    "# take input from the user\n",
    "choice = input(\"Enter choice (1/2/3/4): \")\n",
    "\n",
    "num1 = float(input(\"Enter first number: \"))\n",
    "num2 = float(input(\"Enter second number: \"))\n",
    "\n",
    "if choice == '1':\n",
    "    print(num1, \"+\", num2, \"=\", add(num1,num2))\n",
    "\n",
    "elif choice == '2':\n",
    "    print(num1, \"-\", num2, \"=\", subtract(num1,num2))\n",
    "\n",
    "elif choice == '3':\n",
    "    print(num1, \"*\", num2, \"=\", multiply(num1,num2))\n",
    "\n",
    "elif choice == '4':\n",
    "    print(num1, \"/\", num2, \"=\", divide(num1,num2))\n",
    "else:\n",
    "    print(\"Invalid input\")"
   ]
  },
  {
   "cell_type": "markdown",
   "id": "e43ac3a1",
   "metadata": {},
   "source": [
    "# Q5.The objective of this project is to explore a dataset containing customer information for treadmill products for a retail store called Cardio Good Fitness."
   ]
  },
  {
   "cell_type": "markdown",
   "id": "b97038b6",
   "metadata": {},
   "source": [
    "# Import liabraries"
   ]
  },
  {
   "cell_type": "code",
   "execution_count": 28,
   "id": "1d627c57",
   "metadata": {},
   "outputs": [],
   "source": [
    "import numpy as np \n",
    "import pandas as pd"
   ]
  },
  {
   "cell_type": "code",
   "execution_count": 29,
   "id": "1281fbbc",
   "metadata": {
    "scrolled": true
   },
   "outputs": [
    {
     "data": {
      "text/html": [
       "<div>\n",
       "<style scoped>\n",
       "    .dataframe tbody tr th:only-of-type {\n",
       "        vertical-align: middle;\n",
       "    }\n",
       "\n",
       "    .dataframe tbody tr th {\n",
       "        vertical-align: top;\n",
       "    }\n",
       "\n",
       "    .dataframe thead th {\n",
       "        text-align: right;\n",
       "    }\n",
       "</style>\n",
       "<table border=\"1\" class=\"dataframe\">\n",
       "  <thead>\n",
       "    <tr style=\"text-align: right;\">\n",
       "      <th></th>\n",
       "      <th>Product</th>\n",
       "      <th>Age</th>\n",
       "      <th>Gender</th>\n",
       "      <th>Education</th>\n",
       "      <th>MaritalStatus</th>\n",
       "      <th>Usage</th>\n",
       "      <th>Fitness</th>\n",
       "      <th>Income</th>\n",
       "      <th>Miles</th>\n",
       "    </tr>\n",
       "  </thead>\n",
       "  <tbody>\n",
       "    <tr>\n",
       "      <th>0</th>\n",
       "      <td>TM195</td>\n",
       "      <td>18</td>\n",
       "      <td>Male</td>\n",
       "      <td>14</td>\n",
       "      <td>Single</td>\n",
       "      <td>3</td>\n",
       "      <td>4</td>\n",
       "      <td>29562</td>\n",
       "      <td>112</td>\n",
       "    </tr>\n",
       "    <tr>\n",
       "      <th>1</th>\n",
       "      <td>TM195</td>\n",
       "      <td>19</td>\n",
       "      <td>Male</td>\n",
       "      <td>15</td>\n",
       "      <td>Single</td>\n",
       "      <td>2</td>\n",
       "      <td>3</td>\n",
       "      <td>31836</td>\n",
       "      <td>75</td>\n",
       "    </tr>\n",
       "    <tr>\n",
       "      <th>2</th>\n",
       "      <td>TM195</td>\n",
       "      <td>19</td>\n",
       "      <td>Female</td>\n",
       "      <td>14</td>\n",
       "      <td>Partnered</td>\n",
       "      <td>4</td>\n",
       "      <td>3</td>\n",
       "      <td>30699</td>\n",
       "      <td>66</td>\n",
       "    </tr>\n",
       "    <tr>\n",
       "      <th>3</th>\n",
       "      <td>TM195</td>\n",
       "      <td>19</td>\n",
       "      <td>Male</td>\n",
       "      <td>12</td>\n",
       "      <td>Single</td>\n",
       "      <td>3</td>\n",
       "      <td>3</td>\n",
       "      <td>32973</td>\n",
       "      <td>85</td>\n",
       "    </tr>\n",
       "    <tr>\n",
       "      <th>4</th>\n",
       "      <td>TM195</td>\n",
       "      <td>20</td>\n",
       "      <td>Male</td>\n",
       "      <td>13</td>\n",
       "      <td>Partnered</td>\n",
       "      <td>4</td>\n",
       "      <td>2</td>\n",
       "      <td>35247</td>\n",
       "      <td>47</td>\n",
       "    </tr>\n",
       "    <tr>\n",
       "      <th>...</th>\n",
       "      <td>...</td>\n",
       "      <td>...</td>\n",
       "      <td>...</td>\n",
       "      <td>...</td>\n",
       "      <td>...</td>\n",
       "      <td>...</td>\n",
       "      <td>...</td>\n",
       "      <td>...</td>\n",
       "      <td>...</td>\n",
       "    </tr>\n",
       "    <tr>\n",
       "      <th>175</th>\n",
       "      <td>TM798</td>\n",
       "      <td>40</td>\n",
       "      <td>Male</td>\n",
       "      <td>21</td>\n",
       "      <td>Single</td>\n",
       "      <td>6</td>\n",
       "      <td>5</td>\n",
       "      <td>83416</td>\n",
       "      <td>200</td>\n",
       "    </tr>\n",
       "    <tr>\n",
       "      <th>176</th>\n",
       "      <td>TM798</td>\n",
       "      <td>42</td>\n",
       "      <td>Male</td>\n",
       "      <td>18</td>\n",
       "      <td>Single</td>\n",
       "      <td>5</td>\n",
       "      <td>4</td>\n",
       "      <td>89641</td>\n",
       "      <td>200</td>\n",
       "    </tr>\n",
       "    <tr>\n",
       "      <th>177</th>\n",
       "      <td>TM798</td>\n",
       "      <td>45</td>\n",
       "      <td>Male</td>\n",
       "      <td>16</td>\n",
       "      <td>Single</td>\n",
       "      <td>5</td>\n",
       "      <td>5</td>\n",
       "      <td>90886</td>\n",
       "      <td>160</td>\n",
       "    </tr>\n",
       "    <tr>\n",
       "      <th>178</th>\n",
       "      <td>TM798</td>\n",
       "      <td>47</td>\n",
       "      <td>Male</td>\n",
       "      <td>18</td>\n",
       "      <td>Partnered</td>\n",
       "      <td>4</td>\n",
       "      <td>5</td>\n",
       "      <td>104581</td>\n",
       "      <td>120</td>\n",
       "    </tr>\n",
       "    <tr>\n",
       "      <th>179</th>\n",
       "      <td>TM798</td>\n",
       "      <td>48</td>\n",
       "      <td>Male</td>\n",
       "      <td>18</td>\n",
       "      <td>Partnered</td>\n",
       "      <td>4</td>\n",
       "      <td>5</td>\n",
       "      <td>95508</td>\n",
       "      <td>180</td>\n",
       "    </tr>\n",
       "  </tbody>\n",
       "</table>\n",
       "<p>180 rows × 9 columns</p>\n",
       "</div>"
      ],
      "text/plain": [
       "    Product  Age  Gender  Education MaritalStatus  Usage  Fitness  Income  \\\n",
       "0     TM195   18    Male         14        Single      3        4   29562   \n",
       "1     TM195   19    Male         15        Single      2        3   31836   \n",
       "2     TM195   19  Female         14     Partnered      4        3   30699   \n",
       "3     TM195   19    Male         12        Single      3        3   32973   \n",
       "4     TM195   20    Male         13     Partnered      4        2   35247   \n",
       "..      ...  ...     ...        ...           ...    ...      ...     ...   \n",
       "175   TM798   40    Male         21        Single      6        5   83416   \n",
       "176   TM798   42    Male         18        Single      5        4   89641   \n",
       "177   TM798   45    Male         16        Single      5        5   90886   \n",
       "178   TM798   47    Male         18     Partnered      4        5  104581   \n",
       "179   TM798   48    Male         18     Partnered      4        5   95508   \n",
       "\n",
       "     Miles  \n",
       "0      112  \n",
       "1       75  \n",
       "2       66  \n",
       "3       85  \n",
       "4       47  \n",
       "..     ...  \n",
       "175    200  \n",
       "176    200  \n",
       "177    160  \n",
       "178    120  \n",
       "179    180  \n",
       "\n",
       "[180 rows x 9 columns]"
      ]
     },
     "execution_count": 29,
     "metadata": {},
     "output_type": "execute_result"
    }
   ],
   "source": [
    "data=pd.read_csv(r\"C:\\Users\\akshi\\Downloads\\CardioGoodFitness.csv\")\n",
    "data"
   ]
  },
  {
   "cell_type": "code",
   "execution_count": 46,
   "id": "1074a3df",
   "metadata": {},
   "outputs": [],
   "source": [
    "# a. Descriptive statistics"
   ]
  },
  {
   "cell_type": "code",
   "execution_count": 47,
   "id": "d7d33cb7",
   "metadata": {},
   "outputs": [
    {
     "name": "stdout",
     "output_type": "stream",
     "text": [
      "              Age   Education       Usage     Fitness         Income  \\\n",
      "count  180.000000  180.000000  180.000000  180.000000     180.000000   \n",
      "mean    28.788889   15.572222    3.455556    3.311111   53719.577778   \n",
      "std      6.943498    1.617055    1.084797    0.958869   16506.684226   \n",
      "min     18.000000   12.000000    2.000000    1.000000   29562.000000   \n",
      "25%     24.000000   14.000000    3.000000    3.000000   44058.750000   \n",
      "50%     26.000000   16.000000    3.000000    3.000000   50596.500000   \n",
      "75%     33.000000   16.000000    4.000000    4.000000   58668.000000   \n",
      "max     50.000000   21.000000    7.000000    5.000000  104581.000000   \n",
      "\n",
      "            Miles  \n",
      "count  180.000000  \n",
      "mean   103.194444  \n",
      "std     51.863605  \n",
      "min     21.000000  \n",
      "25%     66.000000  \n",
      "50%     94.000000  \n",
      "75%    114.750000  \n",
      "max    360.000000  \n"
     ]
    }
   ],
   "source": [
    "print(data.describe())"
   ]
  },
  {
   "cell_type": "code",
   "execution_count": 48,
   "id": "c82d60d8",
   "metadata": {},
   "outputs": [
    {
     "name": "stdout",
     "output_type": "stream",
     "text": [
      "Gender\n",
      "Female    3.026316\n",
      "Male      3.519231\n",
      "Name: Fitness, dtype: float64\n"
     ]
    }
   ],
   "source": [
    "# b calculate the mean fitness score for each gender\n",
    "mean_fitness_by_gender = data.groupby('Gender')['Fitness'].mean()\n",
    "print(mean_fitness_by_gender)"
   ]
  },
  {
   "cell_type": "code",
   "execution_count": 49,
   "id": "c9961195",
   "metadata": {},
   "outputs": [
    {
     "name": "stdout",
     "output_type": "stream",
     "text": [
      "TM195    80\n",
      "TM498    60\n",
      "TM798    40\n",
      "Name: Product, dtype: int64\n"
     ]
    }
   ],
   "source": [
    "# c.count the number of occurrences of each product\n",
    "product_counts = data['Product'].value_counts()\n",
    "print(product_counts)"
   ]
  },
  {
   "cell_type": "code",
   "execution_count": 50,
   "id": "17479922",
   "metadata": {},
   "outputs": [
    {
     "name": "stdout",
     "output_type": "stream",
     "text": [
      "MaritalStatus\n",
      "Partnered    3.271028\n",
      "Single       3.369863\n",
      "Name: Fitness, dtype: float64\n"
     ]
    }
   ],
   "source": [
    "#d. calculate the mean fitness score for each marital status\n",
    "mean_fitness_by_marital_status = data.groupby('MaritalStatus')['Fitness'].mean()\n",
    "print(mean_fitness_by_marital_status)"
   ]
  },
  {
   "cell_type": "code",
   "execution_count": 51,
   "id": "6457261d",
   "metadata": {},
   "outputs": [
    {
     "name": "stdout",
     "output_type": "stream",
     "text": [
      "TM195    73\n",
      "TM498    55\n",
      "TM798    35\n",
      "Name: Product, dtype: int64\n"
     ]
    }
   ],
   "source": [
    "# e.Create a subset of the dataframe for customers below the age of 40\n",
    "data_below_40 = data[data['Age'] < 40]\n",
    "\n",
    "# count the number of occurrences of each product in the subset\n",
    "product_counts_below_40 = data_below_40['Product'].value_counts()\n",
    "print(product_counts_below_40)"
   ]
  },
  {
   "cell_type": "code",
   "execution_count": null,
   "id": "5dbbb06b",
   "metadata": {},
   "outputs": [],
   "source": []
  }
 ],
 "metadata": {
  "kernelspec": {
   "display_name": "Python 3",
   "language": "python",
   "name": "python3"
  },
  "language_info": {
   "codemirror_mode": {
    "name": "ipython",
    "version": 3
   },
   "file_extension": ".py",
   "mimetype": "text/x-python",
   "name": "python",
   "nbconvert_exporter": "python",
   "pygments_lexer": "ipython3",
   "version": "3.8.8"
  }
 },
 "nbformat": 4,
 "nbformat_minor": 5
}
